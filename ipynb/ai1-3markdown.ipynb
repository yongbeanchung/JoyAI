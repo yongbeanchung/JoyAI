{
 "cells": [
  {
   "cell_type": "markdown",
   "metadata": {},
   "source": [
    "The fear of the LORD is the beginning of knowledge, but fools despise wisdom and discipline. Proverbs 1:7\n",
    "\n",
    "-------\n",
    "\n",
    "# Welcome to \"AI for All\"\n",
    "\n",
    "Lecture Notes by idebtor@gmail.com, Handong Global University"
   ]
  },
  {
   "cell_type": "markdown",
   "metadata": {},
   "source": [
    "# 마크다운(Markdown) 사용법\n",
    "\n",
    "마크다운 (Markdown)은 마크업(Markup)언어의 일종으로 마크업보다 쉽게 웹 문서를 작성할 수 있는 도구입니다. \n",
    "\n",
    "- 존 그루버(John Gruber)와 아론 스워츠(Aaron Swartz)가 만들었습니다. 처음 이메일의 글쓰기 형식에 영감받아 Python을 이용하여 html변환기를 만들면서 시작되었다고 합니다. \n",
    "- 마크다운 문법은 읽기도 쉽지만 쓰기도 쉽다는 장점이 있습니다. Stackoverflow의 모든 질문과 답변은 마크다운으로 작성한 것입니다. 또한 GitHub에서 볼 수 있는 대부분의 문서들도 마크다운으로 작성되었습니다.  \n",
    "- 파일의 확장자는 **.md**를 사용합니다.\n",
    "\n",
    "-----"
   ]
  },
  {
   "cell_type": "markdown",
   "metadata": {},
   "source": [
    "## Hello \n",
    "\n",
    "_hello_\n",
    "__Hello__\n",
    "\n",
    "1. hello\n",
    "1. hello\n",
    "1. world"
   ]
  },
  {
   "cell_type": "markdown",
   "metadata": {},
   "source": [
    "\n",
    "## Markdown Summary \n",
    "\n",
    "&ensp; &ensp; &nbsp; __Desired style__&ensp; &ensp; &ensp; __in Markdown syntax__&emsp; &emsp; &emsp; __in HTML syntax__\n",
    "```\n",
    "Heading 1\t    # Title                   <h1>Title</h1>\n",
    "Heading 2\t    ## Title                  <h2>Title</h2>\n",
    "Heading 3\t    ### Title                 <h3>Title</h3>\n",
    "Heading 4\t    #### Title                <h4>Title</h4>\n",
    "\n",
    "Paragraph       Just start typing         <p>Just start typing<p>\n",
    "    \n",
    "Bold            **Text**                  <strong>Text</strong>\n",
    "Italic          *Text*                    <em>Text</em>\n",
    "Strike          ~~Text~~                  <del>Text</del>\n",
    "           \n",
    "List (unordered) * List item 1            <ul><li>List item 1</li>\n",
    "                 * List item 2                <li>List item 2</li>\n",
    "                 * List item 3                <li>List item 3</li></ul>\n",
    "\n",
    "List (ordered)  1. List item 1            <ul><li>List item 1</li>\n",
    "                1. List item 2                <li>List item 2</li>\n",
    "                1. List item 3                <li>List item 3</li></ul>\n",
    "\n",
    "Images\t    ![Alt text](path/image.jpg)\t    <img src=\"path/image.jpg\" alt=\"Alt text>\n",
    "Hyperlinks\t[Link text](https://kmooc.kr/)\t<a href=\"https://kmooc.kr/\">Link text</a>\n",
    "\n",
    "Quoted (indent)   > Text                    <blockquote><p>Text</p></blockquote>\n",
    "Code (inline)     ``Statement``             <code>Statement</code>\n",
    "Code (fenced)\t  ```                       <pre><code><span>Statement   \n",
    "                  Statement 1               1</span><span>Statement\n",
    "                  Statement 2               2</span><span>Statement\n",
    "                  Statement 3               3</span></code></pre>\n",
    "                  ```                       \\\n",
    "```  "
   ]
  },
  {
   "cell_type": "markdown",
   "metadata": {},
   "source": [
    "> Be joyful always!"
   ]
  },
  {
   "cell_type": "markdown",
   "metadata": {},
   "source": [
    "## 마크다운 실제 사용 사례들 \n",
    "\n",
    "다음 셀들을 더블 클릭하면서 마크다운으로 어떻게 작성되었는지 직접 비교해 보십시오.. "
   ]
  },
  {
   "cell_type": "markdown",
   "metadata": {},
   "source": [
    "# Title\t- Heading 1\t\n",
    "## Title - Heading 2\n",
    "### Title - Heading 3\n",
    "#### Title - Heading 4\t"
   ]
  },
  {
   "cell_type": "markdown",
   "metadata": {},
   "source": [
    "**Bold Text**   &emsp;  __another bold text__          \n",
    "*Italic Text*    &emsp;  _another italic text__             \n",
    "~~Text~~      "
   ]
  },
  {
   "cell_type": "markdown",
   "metadata": {},
   "source": [
    "* unordered list\n",
    "* apple\n",
    "* orange\n",
    "- ANOTHER unordered list\n",
    "- apple\n",
    "- orange\n",
    "\n",
    "\n",
    "1. ordered list\n",
    "2. second\n",
    "3. third"
   ]
  },
  {
   "cell_type": "markdown",
   "metadata": {},
   "source": [
    "[Welcome to Handong Global University](https://www.handong.edu)\n",
    "\n",
    "<img src=\"https://github.com/idebtor/KMOOC-ML/blob/master/ipynb/images/784-100-10NN.png?raw=true\" width=\"600\">\n",
    "<center>그림 3: 숫자 인식 인공 신경망</center>"
   ]
  },
  {
   "cell_type": "markdown",
   "metadata": {},
   "source": [
    "\n",
    "``` \n",
    "This is a quote.\n",
    "\n",
    "# Title\t- Heading 1\t\n",
    "## Title - Heading 2\n",
    "### Title - Heading 3\n",
    "#### Title - Heading 4\t\n",
    "```\n",
    "\n",
    "> This is block quote \n",
    ">\n",
    "> God is good all the time.  \n",
    "> All the time God is good.  \n",
    "> (There are two hidden spaces after \"all the time.\" and \"God is good.\" that makes a new line.\n",
    "> Otherwise, it will display two line into one like these two sentences.)\n",
    "\n",
    "\n",
    "`-----------` This draws a following line. \n",
    "\n",
    "-------\n"
   ]
  },
  {
   "cell_type": "markdown",
   "metadata": {},
   "source": [
    "## LaTex \n",
    "\n",
    "LaTeX is a high-quality typesetting system like this $ D = \\sqrt{b^2 + 4ac} $; it includes features designed for the production of technical and scientific documentation. LaTeX is the de facto standard for the communication and publication of scientific documents. LaTeX is available as free software.\n",
    "\n",
    "For example:\n",
    "\n",
    "$$ D = \\sqrt{b^2 + 4ac} $$\n",
    "\n",
    "$$\n",
    "z = w_0x_0 + w_1x_1 + ... + w_m x_m = \\sum_{j=0}^{m} x_j w_j = \\mathbf{w^Tx}\n",
    "$$\n",
    "\n",
    "\n",
    "\\begin{align}\n",
    "z = w_0x_0 + w_1x_1 + ... + w_m x_m = \\sum_{j=0}^{m} x_j w_j = \\mathbf{w^Tx}\n",
    "\\end{align}\n",
    "\n",
    "$ D = \\sqrt{b^2 + 4ac}$ \\\n",
    "$ z = w_0x_0 + w_1x_1 + ... + w_m x_m = \\sum_{j=0}^{m} x_j w_j = \\mathbf{w^Tx} $\n",
    "\n",
    "---------"
   ]
  },
  {
   "cell_type": "markdown",
   "metadata": {},
   "source": [
    "# Homework(hw1): markdown\n",
    "\n",
    "아래와 같은 문서를 마크다운 셀 안에서, 마크다운 언어를 사용하여 작성하십시오. 문서 처음과 중간에 두 개의 링크(퍼셉트론 Perceptron, 로젠블라트 Frank Rosenblatt)는 wikipedia 에서 찾아서 연결하십시오. 또한 문서 끝에 사람 모양의 그림도 다음과 같이 보이도록 넣어 보십시오. [사람 모양의 그림](https://github.com/idebtor/KMOOC-ML/blob/master/ipynb/images/person.png)은 어디서 찾을 수 있을까요? 등잔 밑에 있습니다(지금 이 셀을 클릭해보면 링크가 보이겠죠?)\n",
    "\n",
    "완성된 마크다운 셀의 내용을 복사하여 `나의학번이름hw1.md` 라는 텍스트 형식으로 저장합니다. 그리고, md파일을 브라우저에서 테스트 하십시오. 결과에 만족한다면, Piazza hw1 폴더에 upload 하십시오. Piazza의 \"New Post\"를 탭한 후에 나오는, 에디터 창에 있는 \"insert file\" 메뉴를 사용하십시오.\n",
    "\n",
    "<p style=\"color:red\">주의할 점: 숙제를 피아짜에 upload할 때, \"Entire Class\"로 올리면 감점되오니, \"Individuals/Instructors\"를 택한 후, instructors 입력하여 upload 해야 합니다. </p>\n",
    "\n",
    "<img src=\"https://github.com/idebtor/KMOOC-ML/blob/master/ipynb/images/latex_example.png?raw=true\" width=1000>\n"
   ]
  },
  {
   "cell_type": "markdown",
   "metadata": {},
   "source": [
    "\n",
    "### Homework: solution \n",
    "\n",
    "\n",
    "# 1. [퍼셉트론](https://en.wikipedia.org/wiki/Perceptron) 알고리즘\n",
    "\n",
    "1-1, 알고리즘$^{algorithm}$\n",
    "\n",
    "$w_{jim}^{key}$\n",
    "\n",
    "$\\hat{y}$\n",
    "\n",
    "$x^{(i)}$"
   ]
  },
  {
   "cell_type": "markdown",
   "metadata": {},
   "source": [
    "마크다운에 대한 자세한 사용법은 아래 링크를 참조합니다.\n",
    "\n",
    "- [영어] http://daringfireball.net/projects/markdown/\n",
    "- [한글] https://heropy.blog/2017/09/30/markdown/\n"
   ]
  },
  {
   "cell_type": "markdown",
   "metadata": {},
   "source": [
    "-------\n",
    "__Be joyful always!__ 1 Thes.5:16"
   ]
  }
 ],
 "metadata": {
  "kernelspec": {
   "display_name": "Python 3",
   "language": "python",
   "name": "python3"
  },
  "language_info": {
   "codemirror_mode": {
    "name": "ipython",
    "version": 3
   },
   "file_extension": ".py",
   "mimetype": "text/x-python",
   "name": "python",
   "nbconvert_exporter": "python",
   "pygments_lexer": "ipython3",
   "version": "3.7.7"
  }
 },
 "nbformat": 4,
 "nbformat_minor": 1
}
